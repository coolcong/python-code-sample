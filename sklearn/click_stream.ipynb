{
 "cells": [
  {
   "cell_type": "code",
   "execution_count": 1,
   "metadata": {},
   "outputs": [
    {
     "name": "stderr",
     "output_type": "stream",
     "text": [
      "/anaconda3/lib/python3.6/site-packages/statsmodels/compat/pandas.py:56: FutureWarning: The pandas.core.datetools module is deprecated and will be removed in a future version. Please use the pandas.tseries module instead.\n",
      "  from pandas.core import datetools\n",
      "/anaconda3/lib/python3.6/site-packages/sklearn/cross_validation.py:41: DeprecationWarning: This module was deprecated in version 0.18 in favor of the model_selection module into which all the refactored classes and functions are moved. Also note that the interface of the new CV iterators are different from that of this module. This module will be removed in 0.20.\n",
      "  \"This module will be removed in 0.20.\", DeprecationWarning)\n"
     ]
    }
   ],
   "source": [
    "import pandas as pd\n",
    "import numpy as np\n",
    "import datetime as dt\n",
    "import matplotlib.pyplot as plt\n",
    "import os, json, requests, pickle\n",
    "from scipy.stats import skew\n",
    "#from shapely.geometry import Point,Polygon,MultiPoint,MultiPolygon\n",
    "from scipy.stats import ttest_ind, f_oneway, lognorm, levy, skew, chisquare\n",
    "#import scipy.stats as st\n",
    "from sklearn.preprocessing import normalize, scale\n",
    "from sklearn.model_selection import train_test_split\n",
    "import statsmodels.api as sm\n",
    "from patsy import dmatrices\n",
    "from sklearn import metrics\n",
    "from sklearn import linear_model\n",
    "from sklearn.linear_model import LogisticRegression\n",
    "from sklearn.ensemble import RandomForestClassifier\n",
    "from sklearn.linear_model import Perceptron\n",
    "from sklearn.linear_model import SGDClassifier\n",
    "from sklearn.tree import DecisionTreeClassifier\n",
    "from sklearn.neighbors import KNeighborsClassifier\n",
    "from sklearn.svm import SVC, LinearSVC\n",
    "from sklearn.naive_bayes import GaussianNB\n",
    "from sklearn.cross_validation import train_test_split\n",
    "from sklearn.cross_validation import cross_val_score\n",
    "from sklearn.ensemble import RandomForestClassifier\n",
    "from sklearn.cross_validation import cross_val_score\n",
    "from sklearn.model_selection import KFold\n",
    "\n",
    "#from tabulate import tabulate #pretty print of tables. source: http://txt.arboreus.com/2013/03/13/pretty-print-tables-in-python.html\n",
    "#from shapely.geometry import Point,Polygon,MultiPoint\n",
    "%matplotlib inline\n",
    "\n",
    "import warnings\n",
    "warnings.filterwarnings('ignore')\n"
   ]
  },
  {
   "cell_type": "markdown",
   "metadata": {},
   "source": [
    "# 1.Data Exploratory Analysis and Data Preprocessing"
   ]
  },
  {
   "cell_type": "code",
   "execution_count": 2,
   "metadata": {},
   "outputs": [
    {
     "name": "stdout",
     "output_type": "stream",
     "text": [
      "Number of rows: 351088\n",
      "Number of columns:  173\n"
     ]
    }
   ],
   "source": [
    "# read the data and print the dimension\n",
    "df = pd.read_csv('User_Part3.txt',header=None)\n",
    "df.head()# Print the size of the dataset\n",
    "print(\"Number of rows:\", df.shape[0])\n",
    "print(\"Number of columns: \", df.shape[1])"
   ]
  },
  {
   "cell_type": "code",
   "execution_count": 3,
   "metadata": {},
   "outputs": [
    {
     "data": {
      "text/plain": [
       "Index(['x_0', 'x_1', 'x_2', 'x_3', 'x_4', 'x_5', 'x_6', 'x_7', 'x_8', 'x_9',\n",
       "       ...\n",
       "       'x_163', 'x_164', 'x_165', 'x_166', 'x_167', 'x_168', 'x_169', 'x_170',\n",
       "       'x_171', 'x_172'],\n",
       "      dtype='object', length=173)"
      ]
     },
     "execution_count": 3,
     "metadata": {},
     "output_type": "execute_result"
    }
   ],
   "source": [
    "#rename the column\n",
    "df.columns = ['x_' + str(col) for col in df.columns]\n",
    "df.columns"
   ]
  },
  {
   "cell_type": "code",
   "execution_count": 4,
   "metadata": {},
   "outputs": [
    {
     "data": {
      "text/plain": [
       "x_81     351088\n",
       "x_82     351088\n",
       "x_80     351088\n",
       "x_34     351071\n",
       "x_25     351071\n",
       "x_52     351040\n",
       "x_55     351021\n",
       "x_35     350968\n",
       "x_26     350968\n",
       "x_46     350919\n",
       "x_43     350919\n",
       "x_53     350913\n",
       "x_58     350889\n",
       "x_64     350800\n",
       "x_61     350771\n",
       "x_56     350751\n",
       "x_49     350636\n",
       "x_77     350558\n",
       "x_27     350477\n",
       "x_36     350477\n",
       "x_37     350408\n",
       "x_40     350408\n",
       "x_54     350382\n",
       "x_148    350374\n",
       "x_47     350121\n",
       "x_44     350121\n",
       "x_59     350117\n",
       "x_74     350028\n",
       "x_57     349940\n",
       "x_78     349719\n",
       "          ...  \n",
       "x_127      3759\n",
       "x_114      3759\n",
       "x_104      3759\n",
       "x_105      3759\n",
       "x_106      3759\n",
       "x_107      3759\n",
       "x_108      3759\n",
       "x_109      3759\n",
       "x_110      3759\n",
       "x_111      3759\n",
       "x_112      3759\n",
       "x_126      3759\n",
       "x_113      3759\n",
       "x_115      3759\n",
       "x_116      3759\n",
       "x_117      3759\n",
       "x_118      3759\n",
       "x_119      3759\n",
       "x_120      3759\n",
       "x_122      3759\n",
       "x_123      3759\n",
       "x_124      3759\n",
       "x_125      3759\n",
       "x_3           1\n",
       "x_1           1\n",
       "x_2           1\n",
       "x_0           1\n",
       "x_4           1\n",
       "x_5           1\n",
       "x_172         0\n",
       "Length: 173, dtype: int64"
      ]
     },
     "execution_count": 4,
     "metadata": {},
     "output_type": "execute_result"
    }
   ],
   "source": [
    "# check the num of missings for all the columns\n",
    "df.head()\n",
    "df.isnull().sum().sort_values(ascending=False)"
   ]
  },
  {
   "cell_type": "code",
   "execution_count": 30,
   "metadata": {},
   "outputs": [
    {
     "data": {
      "text/plain": [
       "Total_Missing      91532.00000\n",
       "Percent_Missing        0.26071\n",
       "Name: x_171, dtype: float64"
      ]
     },
     "execution_count": 30,
     "metadata": {},
     "output_type": "execute_result"
    }
   ],
   "source": [
    "# check the missing percentage for all the columns\n",
    "total = df.isnull().sum().sort_values(ascending=False)\n",
    "percent = (df.isnull().sum()/df['x_172'].count()).sort_values(ascending=False)\n",
    "missing_data = pd.concat([total, percent], axis=1, keys=['Total_Missing', 'Percent_Missing'])\n",
    "missing_data.to_excel('missing.xls')\n",
    "missing_data.loc['x_171']\n"
   ]
  },
  {
   "cell_type": "code",
   "execution_count": 6,
   "metadata": {},
   "outputs": [
    {
     "data": {
      "text/plain": [
       " 0.0    181443\n",
       "NaN      91532\n",
       " 1.0     78113\n",
       "Name: x_171, dtype: int64"
      ]
     },
     "execution_count": 6,
     "metadata": {},
     "output_type": "execute_result"
    }
   ],
   "source": [
    "# the target column is missing 91532\n",
    "df['x_171'].value_counts(dropna=False)"
   ]
  },
  {
   "cell_type": "code",
   "execution_count": 47,
   "metadata": {},
   "outputs": [
    {
     "data": {
      "text/plain": [
       " 0.0    0.516802\n",
       "NaN     0.260710\n",
       " 1.0    0.222488\n",
       "Name: x_171, dtype: float64"
      ]
     },
     "execution_count": 47,
     "metadata": {},
     "output_type": "execute_result"
    }
   ],
   "source": [
    "# freq table for target var\n",
    "df['x_171'].value_counts(dropna=False)/len(df['x_171'])"
   ]
  },
  {
   "cell_type": "code",
   "execution_count": 7,
   "metadata": {},
   "outputs": [
    {
     "name": "stdout",
     "output_type": "stream",
     "text": [
      "Number of rows: 259556\n",
      "Number of columns:  173\n"
     ]
    }
   ],
   "source": [
    "# drop the rows with missing target var\n",
    "df1 = df[df['x_171'].notnull()]\n",
    "print(\"Number of rows:\", df1.shape[0])\n",
    "print(\"Number of columns: \", df1.shape[1])"
   ]
  },
  {
   "cell_type": "code",
   "execution_count": 8,
   "metadata": {},
   "outputs": [
    {
     "data": {
      "text/plain": [
       "Total_Missing      0.0\n",
       "Percent_Missing    0.0\n",
       "Name: x_171, dtype: float64"
      ]
     },
     "execution_count": 8,
     "metadata": {},
     "output_type": "execute_result"
    }
   ],
   "source": [
    "# check the completeness of data\n",
    "total = df1.isnull().sum().sort_values(ascending=False)\n",
    "percent = (df1.isnull().sum()/df1['x_172'].count()).sort_values(ascending=False)\n",
    "missing_data1 = pd.concat([total, percent], axis=1, keys=['Total_Missing', 'Percent_Missing'])\n",
    "missing_data1.to_excel('missing1.xls')\n",
    "missing_data1.loc['x_171']"
   ]
  },
  {
   "cell_type": "code",
   "execution_count": 9,
   "metadata": {},
   "outputs": [
    {
     "data": {
      "text/html": [
       "<div>\n",
       "<style>\n",
       "    .dataframe thead tr:only-child th {\n",
       "        text-align: right;\n",
       "    }\n",
       "\n",
       "    .dataframe thead th {\n",
       "        text-align: left;\n",
       "    }\n",
       "\n",
       "    .dataframe tbody tr th {\n",
       "        vertical-align: top;\n",
       "    }\n",
       "</style>\n",
       "<table border=\"1\" class=\"dataframe\">\n",
       "  <thead>\n",
       "    <tr style=\"text-align: right;\">\n",
       "      <th></th>\n",
       "      <th>x_0</th>\n",
       "      <th>x_1</th>\n",
       "      <th>x_2</th>\n",
       "      <th>x_3</th>\n",
       "      <th>x_4</th>\n",
       "      <th>x_5</th>\n",
       "      <th>x_6</th>\n",
       "      <th>x_7</th>\n",
       "      <th>x_8</th>\n",
       "      <th>x_9</th>\n",
       "      <th>...</th>\n",
       "      <th>x_163</th>\n",
       "      <th>x_164</th>\n",
       "      <th>x_165</th>\n",
       "      <th>x_166</th>\n",
       "      <th>x_167</th>\n",
       "      <th>x_168</th>\n",
       "      <th>x_169</th>\n",
       "      <th>x_170</th>\n",
       "      <th>x_171</th>\n",
       "      <th>x_172</th>\n",
       "    </tr>\n",
       "  </thead>\n",
       "  <tbody>\n",
       "  </tbody>\n",
       "</table>\n",
       "<p>0 rows × 173 columns</p>\n",
       "</div>"
      ],
      "text/plain": [
       "Empty DataFrame\n",
       "Columns: [x_0, x_1, x_2, x_3, x_4, x_5, x_6, x_7, x_8, x_9, x_10, x_11, x_12, x_13, x_14, x_15, x_16, x_17, x_18, x_19, x_20, x_21, x_22, x_23, x_24, x_25, x_26, x_27, x_28, x_29, x_30, x_31, x_32, x_33, x_34, x_35, x_36, x_37, x_38, x_39, x_40, x_41, x_42, x_43, x_44, x_45, x_46, x_47, x_48, x_49, x_50, x_51, x_52, x_53, x_54, x_55, x_56, x_57, x_58, x_59, x_60, x_61, x_62, x_63, x_64, x_65, x_66, x_67, x_68, x_69, x_70, x_71, x_72, x_73, x_74, x_75, x_76, x_77, x_78, x_79, x_80, x_81, x_82, x_83, x_84, x_85, x_86, x_87, x_88, x_89, x_90, x_91, x_92, x_93, x_94, x_95, x_96, x_97, x_98, x_99, ...]\n",
       "Index: []\n",
       "\n",
       "[0 rows x 173 columns]"
      ]
     },
     "execution_count": 9,
     "metadata": {},
     "output_type": "execute_result"
    }
   ],
   "source": [
    "# check if there is duplicate user_id\n",
    "df1_duplicate=df1[df1.duplicated(['x_172'], keep=False)]\n",
    "df1_duplicate.head()"
   ]
  },
  {
   "cell_type": "code",
   "execution_count": 31,
   "metadata": {},
   "outputs": [
    {
     "data": {
      "text/html": [
       "<div>\n",
       "<style>\n",
       "    .dataframe thead tr:only-child th {\n",
       "        text-align: right;\n",
       "    }\n",
       "\n",
       "    .dataframe thead th {\n",
       "        text-align: left;\n",
       "    }\n",
       "\n",
       "    .dataframe tbody tr th {\n",
       "        vertical-align: top;\n",
       "    }\n",
       "</style>\n",
       "<table border=\"1\" class=\"dataframe\">\n",
       "  <thead>\n",
       "    <tr style=\"text-align: right;\">\n",
       "      <th></th>\n",
       "      <th>x_0</th>\n",
       "      <th>x_1</th>\n",
       "      <th>x_2</th>\n",
       "      <th>x_3</th>\n",
       "      <th>x_4</th>\n",
       "      <th>x_5</th>\n",
       "      <th>x_6</th>\n",
       "      <th>x_7</th>\n",
       "      <th>x_8</th>\n",
       "      <th>x_9</th>\n",
       "      <th>...</th>\n",
       "      <th>x_163</th>\n",
       "      <th>x_164</th>\n",
       "      <th>x_165</th>\n",
       "      <th>x_166</th>\n",
       "      <th>x_167</th>\n",
       "      <th>x_168</th>\n",
       "      <th>x_169</th>\n",
       "      <th>x_170</th>\n",
       "      <th>x_171</th>\n",
       "      <th>x_172</th>\n",
       "    </tr>\n",
       "  </thead>\n",
       "  <tbody>\n",
       "    <tr>\n",
       "      <th>count</th>\n",
       "      <td>259556.000000</td>\n",
       "      <td>259556.000000</td>\n",
       "      <td>259556.000000</td>\n",
       "      <td>259556.000000</td>\n",
       "      <td>259556.000000</td>\n",
       "      <td>259556.000000</td>\n",
       "      <td>235371.0</td>\n",
       "      <td>235371.000000</td>\n",
       "      <td>235371.000000</td>\n",
       "      <td>117539.000000</td>\n",
       "      <td>...</td>\n",
       "      <td>245479.000000</td>\n",
       "      <td>245479.000000</td>\n",
       "      <td>245479.000000</td>\n",
       "      <td>22906.000000</td>\n",
       "      <td>1331.000000</td>\n",
       "      <td>94428.000000</td>\n",
       "      <td>94428.000000</td>\n",
       "      <td>94428.000000</td>\n",
       "      <td>259556.000000</td>\n",
       "      <td>259556.000000</td>\n",
       "    </tr>\n",
       "    <tr>\n",
       "      <th>mean</th>\n",
       "      <td>0.000297</td>\n",
       "      <td>0.001803</td>\n",
       "      <td>0.008599</td>\n",
       "      <td>0.000100</td>\n",
       "      <td>0.000959</td>\n",
       "      <td>0.004257</td>\n",
       "      <td>0.0</td>\n",
       "      <td>0.000034</td>\n",
       "      <td>0.000280</td>\n",
       "      <td>3.081905</td>\n",
       "      <td>...</td>\n",
       "      <td>0.008681</td>\n",
       "      <td>0.057699</td>\n",
       "      <td>0.254189</td>\n",
       "      <td>4.511740</td>\n",
       "      <td>4.528092</td>\n",
       "      <td>0.016489</td>\n",
       "      <td>0.102808</td>\n",
       "      <td>0.484973</td>\n",
       "      <td>0.300949</td>\n",
       "      <td>175646.312141</td>\n",
       "    </tr>\n",
       "    <tr>\n",
       "      <th>std</th>\n",
       "      <td>0.017221</td>\n",
       "      <td>0.042424</td>\n",
       "      <td>0.092333</td>\n",
       "      <td>0.010008</td>\n",
       "      <td>0.030958</td>\n",
       "      <td>0.065109</td>\n",
       "      <td>0.0</td>\n",
       "      <td>0.005830</td>\n",
       "      <td>0.016743</td>\n",
       "      <td>4.848717</td>\n",
       "      <td>...</td>\n",
       "      <td>0.148351</td>\n",
       "      <td>0.441876</td>\n",
       "      <td>1.194557</td>\n",
       "      <td>0.724404</td>\n",
       "      <td>0.768588</td>\n",
       "      <td>0.233204</td>\n",
       "      <td>0.606078</td>\n",
       "      <td>1.994883</td>\n",
       "      <td>0.458671</td>\n",
       "      <td>101314.601869</td>\n",
       "    </tr>\n",
       "    <tr>\n",
       "      <th>min</th>\n",
       "      <td>0.000000</td>\n",
       "      <td>0.000000</td>\n",
       "      <td>0.000000</td>\n",
       "      <td>0.000000</td>\n",
       "      <td>0.000000</td>\n",
       "      <td>0.000000</td>\n",
       "      <td>0.0</td>\n",
       "      <td>0.000000</td>\n",
       "      <td>0.000000</td>\n",
       "      <td>1.000000</td>\n",
       "      <td>...</td>\n",
       "      <td>0.000000</td>\n",
       "      <td>0.000000</td>\n",
       "      <td>0.000000</td>\n",
       "      <td>1.000000</td>\n",
       "      <td>1.000000</td>\n",
       "      <td>0.000000</td>\n",
       "      <td>0.000000</td>\n",
       "      <td>0.000000</td>\n",
       "      <td>0.000000</td>\n",
       "      <td>0.000000</td>\n",
       "    </tr>\n",
       "    <tr>\n",
       "      <th>25%</th>\n",
       "      <td>0.000000</td>\n",
       "      <td>0.000000</td>\n",
       "      <td>0.000000</td>\n",
       "      <td>0.000000</td>\n",
       "      <td>0.000000</td>\n",
       "      <td>0.000000</td>\n",
       "      <td>0.0</td>\n",
       "      <td>0.000000</td>\n",
       "      <td>0.000000</td>\n",
       "      <td>1.000000</td>\n",
       "      <td>...</td>\n",
       "      <td>0.000000</td>\n",
       "      <td>0.000000</td>\n",
       "      <td>0.000000</td>\n",
       "      <td>4.000000</td>\n",
       "      <td>4.000000</td>\n",
       "      <td>0.000000</td>\n",
       "      <td>0.000000</td>\n",
       "      <td>0.000000</td>\n",
       "      <td>0.000000</td>\n",
       "      <td>87867.750000</td>\n",
       "    </tr>\n",
       "    <tr>\n",
       "      <th>50%</th>\n",
       "      <td>0.000000</td>\n",
       "      <td>0.000000</td>\n",
       "      <td>0.000000</td>\n",
       "      <td>0.000000</td>\n",
       "      <td>0.000000</td>\n",
       "      <td>0.000000</td>\n",
       "      <td>0.0</td>\n",
       "      <td>0.000000</td>\n",
       "      <td>0.000000</td>\n",
       "      <td>2.000000</td>\n",
       "      <td>...</td>\n",
       "      <td>0.000000</td>\n",
       "      <td>0.000000</td>\n",
       "      <td>0.000000</td>\n",
       "      <td>5.000000</td>\n",
       "      <td>5.000000</td>\n",
       "      <td>0.000000</td>\n",
       "      <td>0.000000</td>\n",
       "      <td>0.000000</td>\n",
       "      <td>0.000000</td>\n",
       "      <td>175815.500000</td>\n",
       "    </tr>\n",
       "    <tr>\n",
       "      <th>75%</th>\n",
       "      <td>0.000000</td>\n",
       "      <td>0.000000</td>\n",
       "      <td>0.000000</td>\n",
       "      <td>0.000000</td>\n",
       "      <td>0.000000</td>\n",
       "      <td>0.000000</td>\n",
       "      <td>0.0</td>\n",
       "      <td>0.000000</td>\n",
       "      <td>0.000000</td>\n",
       "      <td>3.000000</td>\n",
       "      <td>...</td>\n",
       "      <td>0.000000</td>\n",
       "      <td>0.000000</td>\n",
       "      <td>0.000000</td>\n",
       "      <td>5.000000</td>\n",
       "      <td>5.000000</td>\n",
       "      <td>0.000000</td>\n",
       "      <td>0.000000</td>\n",
       "      <td>0.000000</td>\n",
       "      <td>1.000000</td>\n",
       "      <td>263481.500000</td>\n",
       "    </tr>\n",
       "    <tr>\n",
       "      <th>max</th>\n",
       "      <td>1.000000</td>\n",
       "      <td>1.000000</td>\n",
       "      <td>1.000000</td>\n",
       "      <td>1.000000</td>\n",
       "      <td>1.000000</td>\n",
       "      <td>1.000000</td>\n",
       "      <td>0.0</td>\n",
       "      <td>1.000000</td>\n",
       "      <td>1.000000</td>\n",
       "      <td>690.000000</td>\n",
       "      <td>...</td>\n",
       "      <td>24.000000</td>\n",
       "      <td>48.000000</td>\n",
       "      <td>171.000000</td>\n",
       "      <td>5.000000</td>\n",
       "      <td>5.000000</td>\n",
       "      <td>33.000000</td>\n",
       "      <td>67.000000</td>\n",
       "      <td>281.000000</td>\n",
       "      <td>1.000000</td>\n",
       "      <td>351087.000000</td>\n",
       "    </tr>\n",
       "  </tbody>\n",
       "</table>\n",
       "<p>8 rows × 173 columns</p>\n",
       "</div>"
      ],
      "text/plain": [
       "                 x_0            x_1            x_2            x_3  \\\n",
       "count  259556.000000  259556.000000  259556.000000  259556.000000   \n",
       "mean        0.000297       0.001803       0.008599       0.000100   \n",
       "std         0.017221       0.042424       0.092333       0.010008   \n",
       "min         0.000000       0.000000       0.000000       0.000000   \n",
       "25%         0.000000       0.000000       0.000000       0.000000   \n",
       "50%         0.000000       0.000000       0.000000       0.000000   \n",
       "75%         0.000000       0.000000       0.000000       0.000000   \n",
       "max         1.000000       1.000000       1.000000       1.000000   \n",
       "\n",
       "                 x_4            x_5       x_6            x_7            x_8  \\\n",
       "count  259556.000000  259556.000000  235371.0  235371.000000  235371.000000   \n",
       "mean        0.000959       0.004257       0.0       0.000034       0.000280   \n",
       "std         0.030958       0.065109       0.0       0.005830       0.016743   \n",
       "min         0.000000       0.000000       0.0       0.000000       0.000000   \n",
       "25%         0.000000       0.000000       0.0       0.000000       0.000000   \n",
       "50%         0.000000       0.000000       0.0       0.000000       0.000000   \n",
       "75%         0.000000       0.000000       0.0       0.000000       0.000000   \n",
       "max         1.000000       1.000000       0.0       1.000000       1.000000   \n",
       "\n",
       "                 x_9      ...                x_163          x_164  \\\n",
       "count  117539.000000      ...        245479.000000  245479.000000   \n",
       "mean        3.081905      ...             0.008681       0.057699   \n",
       "std         4.848717      ...             0.148351       0.441876   \n",
       "min         1.000000      ...             0.000000       0.000000   \n",
       "25%         1.000000      ...             0.000000       0.000000   \n",
       "50%         2.000000      ...             0.000000       0.000000   \n",
       "75%         3.000000      ...             0.000000       0.000000   \n",
       "max       690.000000      ...            24.000000      48.000000   \n",
       "\n",
       "               x_165         x_166        x_167         x_168         x_169  \\\n",
       "count  245479.000000  22906.000000  1331.000000  94428.000000  94428.000000   \n",
       "mean        0.254189      4.511740     4.528092      0.016489      0.102808   \n",
       "std         1.194557      0.724404     0.768588      0.233204      0.606078   \n",
       "min         0.000000      1.000000     1.000000      0.000000      0.000000   \n",
       "25%         0.000000      4.000000     4.000000      0.000000      0.000000   \n",
       "50%         0.000000      5.000000     5.000000      0.000000      0.000000   \n",
       "75%         0.000000      5.000000     5.000000      0.000000      0.000000   \n",
       "max       171.000000      5.000000     5.000000     33.000000     67.000000   \n",
       "\n",
       "              x_170          x_171          x_172  \n",
       "count  94428.000000  259556.000000  259556.000000  \n",
       "mean       0.484973       0.300949  175646.312141  \n",
       "std        1.994883       0.458671  101314.601869  \n",
       "min        0.000000       0.000000       0.000000  \n",
       "25%        0.000000       0.000000   87867.750000  \n",
       "50%        0.000000       0.000000  175815.500000  \n",
       "75%        0.000000       1.000000  263481.500000  \n",
       "max      281.000000       1.000000  351087.000000  \n",
       "\n",
       "[8 rows x 173 columns]"
      ]
     },
     "execution_count": 31,
     "metadata": {},
     "output_type": "execute_result"
    }
   ],
   "source": [
    "# drop the features that have more than 50% missings\n",
    "df1.columns[df1.isnull().mean() < 0.5]\n",
    "df2=df1[df1.columns[df1.isnull().mean() < 0.5]]\n",
    "df1.describe()"
   ]
  },
  {
   "cell_type": "code",
   "execution_count": 32,
   "metadata": {},
   "outputs": [
    {
     "data": {
      "text/html": [
       "<div>\n",
       "<style>\n",
       "    .dataframe thead tr:only-child th {\n",
       "        text-align: right;\n",
       "    }\n",
       "\n",
       "    .dataframe thead th {\n",
       "        text-align: left;\n",
       "    }\n",
       "\n",
       "    .dataframe tbody tr th {\n",
       "        vertical-align: top;\n",
       "    }\n",
       "</style>\n",
       "<table border=\"1\" class=\"dataframe\">\n",
       "  <thead>\n",
       "    <tr style=\"text-align: right;\">\n",
       "      <th></th>\n",
       "      <th>x_0</th>\n",
       "      <th>x_1</th>\n",
       "      <th>x_2</th>\n",
       "      <th>x_3</th>\n",
       "      <th>x_4</th>\n",
       "      <th>x_5</th>\n",
       "      <th>x_6</th>\n",
       "      <th>x_7</th>\n",
       "      <th>x_8</th>\n",
       "      <th>x_67</th>\n",
       "      <th>...</th>\n",
       "      <th>x_142</th>\n",
       "      <th>x_154</th>\n",
       "      <th>x_155</th>\n",
       "      <th>x_156</th>\n",
       "      <th>x_159</th>\n",
       "      <th>x_163</th>\n",
       "      <th>x_164</th>\n",
       "      <th>x_165</th>\n",
       "      <th>x_171</th>\n",
       "      <th>x_172</th>\n",
       "    </tr>\n",
       "  </thead>\n",
       "  <tbody>\n",
       "    <tr>\n",
       "      <th>count</th>\n",
       "      <td>259556.000000</td>\n",
       "      <td>259556.000000</td>\n",
       "      <td>259556.000000</td>\n",
       "      <td>259556.000000</td>\n",
       "      <td>259556.000000</td>\n",
       "      <td>259556.000000</td>\n",
       "      <td>259556.0</td>\n",
       "      <td>259556.000000</td>\n",
       "      <td>259556.000000</td>\n",
       "      <td>259556.000000</td>\n",
       "      <td>...</td>\n",
       "      <td>259556.000000</td>\n",
       "      <td>259556.000000</td>\n",
       "      <td>259556.000000</td>\n",
       "      <td>259556.000000</td>\n",
       "      <td>259556.000000</td>\n",
       "      <td>259556.000000</td>\n",
       "      <td>259556.000000</td>\n",
       "      <td>259556.000000</td>\n",
       "      <td>259556.000000</td>\n",
       "      <td>259556.000000</td>\n",
       "    </tr>\n",
       "    <tr>\n",
       "      <th>mean</th>\n",
       "      <td>0.000297</td>\n",
       "      <td>0.001803</td>\n",
       "      <td>0.008599</td>\n",
       "      <td>0.000100</td>\n",
       "      <td>0.000959</td>\n",
       "      <td>0.004257</td>\n",
       "      <td>0.0</td>\n",
       "      <td>0.000034</td>\n",
       "      <td>0.000280</td>\n",
       "      <td>0.970298</td>\n",
       "      <td>...</td>\n",
       "      <td>1.625766</td>\n",
       "      <td>0.089200</td>\n",
       "      <td>0.515953</td>\n",
       "      <td>2.045241</td>\n",
       "      <td>1.347805</td>\n",
       "      <td>0.008681</td>\n",
       "      <td>0.057699</td>\n",
       "      <td>0.254189</td>\n",
       "      <td>0.300949</td>\n",
       "      <td>175646.312141</td>\n",
       "    </tr>\n",
       "    <tr>\n",
       "      <th>std</th>\n",
       "      <td>0.017221</td>\n",
       "      <td>0.042424</td>\n",
       "      <td>0.092333</td>\n",
       "      <td>0.010008</td>\n",
       "      <td>0.030958</td>\n",
       "      <td>0.065109</td>\n",
       "      <td>0.0</td>\n",
       "      <td>0.005552</td>\n",
       "      <td>0.015944</td>\n",
       "      <td>0.174015</td>\n",
       "      <td>...</td>\n",
       "      <td>231.537747</td>\n",
       "      <td>0.615258</td>\n",
       "      <td>1.716905</td>\n",
       "      <td>4.627163</td>\n",
       "      <td>1.502041</td>\n",
       "      <td>0.144272</td>\n",
       "      <td>0.429727</td>\n",
       "      <td>1.161712</td>\n",
       "      <td>0.458671</td>\n",
       "      <td>101314.601869</td>\n",
       "    </tr>\n",
       "    <tr>\n",
       "      <th>min</th>\n",
       "      <td>0.000000</td>\n",
       "      <td>0.000000</td>\n",
       "      <td>0.000000</td>\n",
       "      <td>0.000000</td>\n",
       "      <td>0.000000</td>\n",
       "      <td>0.000000</td>\n",
       "      <td>0.0</td>\n",
       "      <td>0.000000</td>\n",
       "      <td>0.000000</td>\n",
       "      <td>0.000000</td>\n",
       "      <td>...</td>\n",
       "      <td>0.000000</td>\n",
       "      <td>0.000000</td>\n",
       "      <td>0.000000</td>\n",
       "      <td>0.000000</td>\n",
       "      <td>1.000000</td>\n",
       "      <td>0.000000</td>\n",
       "      <td>0.000000</td>\n",
       "      <td>0.000000</td>\n",
       "      <td>0.000000</td>\n",
       "      <td>0.000000</td>\n",
       "    </tr>\n",
       "    <tr>\n",
       "      <th>25%</th>\n",
       "      <td>0.000000</td>\n",
       "      <td>0.000000</td>\n",
       "      <td>0.000000</td>\n",
       "      <td>0.000000</td>\n",
       "      <td>0.000000</td>\n",
       "      <td>0.000000</td>\n",
       "      <td>0.0</td>\n",
       "      <td>0.000000</td>\n",
       "      <td>0.000000</td>\n",
       "      <td>0.970298</td>\n",
       "      <td>...</td>\n",
       "      <td>0.000000</td>\n",
       "      <td>0.000000</td>\n",
       "      <td>0.000000</td>\n",
       "      <td>0.000000</td>\n",
       "      <td>1.000000</td>\n",
       "      <td>0.000000</td>\n",
       "      <td>0.000000</td>\n",
       "      <td>0.000000</td>\n",
       "      <td>0.000000</td>\n",
       "      <td>87867.750000</td>\n",
       "    </tr>\n",
       "    <tr>\n",
       "      <th>50%</th>\n",
       "      <td>0.000000</td>\n",
       "      <td>0.000000</td>\n",
       "      <td>0.000000</td>\n",
       "      <td>0.000000</td>\n",
       "      <td>0.000000</td>\n",
       "      <td>0.000000</td>\n",
       "      <td>0.0</td>\n",
       "      <td>0.000000</td>\n",
       "      <td>0.000000</td>\n",
       "      <td>1.000000</td>\n",
       "      <td>...</td>\n",
       "      <td>0.000000</td>\n",
       "      <td>0.000000</td>\n",
       "      <td>0.000000</td>\n",
       "      <td>1.000000</td>\n",
       "      <td>1.000000</td>\n",
       "      <td>0.000000</td>\n",
       "      <td>0.000000</td>\n",
       "      <td>0.000000</td>\n",
       "      <td>0.000000</td>\n",
       "      <td>175815.500000</td>\n",
       "    </tr>\n",
       "    <tr>\n",
       "      <th>75%</th>\n",
       "      <td>0.000000</td>\n",
       "      <td>0.000000</td>\n",
       "      <td>0.000000</td>\n",
       "      <td>0.000000</td>\n",
       "      <td>0.000000</td>\n",
       "      <td>0.000000</td>\n",
       "      <td>0.0</td>\n",
       "      <td>0.000000</td>\n",
       "      <td>0.000000</td>\n",
       "      <td>1.000000</td>\n",
       "      <td>...</td>\n",
       "      <td>0.000000</td>\n",
       "      <td>0.000000</td>\n",
       "      <td>0.515953</td>\n",
       "      <td>2.045241</td>\n",
       "      <td>1.000000</td>\n",
       "      <td>0.000000</td>\n",
       "      <td>0.000000</td>\n",
       "      <td>0.000000</td>\n",
       "      <td>1.000000</td>\n",
       "      <td>263481.500000</td>\n",
       "    </tr>\n",
       "    <tr>\n",
       "      <th>max</th>\n",
       "      <td>1.000000</td>\n",
       "      <td>1.000000</td>\n",
       "      <td>1.000000</td>\n",
       "      <td>1.000000</td>\n",
       "      <td>1.000000</td>\n",
       "      <td>1.000000</td>\n",
       "      <td>0.0</td>\n",
       "      <td>1.000000</td>\n",
       "      <td>1.000000</td>\n",
       "      <td>3.000000</td>\n",
       "      <td>...</td>\n",
       "      <td>104640.000000</td>\n",
       "      <td>135.000000</td>\n",
       "      <td>183.000000</td>\n",
       "      <td>527.000000</td>\n",
       "      <td>74.000000</td>\n",
       "      <td>24.000000</td>\n",
       "      <td>48.000000</td>\n",
       "      <td>171.000000</td>\n",
       "      <td>1.000000</td>\n",
       "      <td>351087.000000</td>\n",
       "    </tr>\n",
       "  </tbody>\n",
       "</table>\n",
       "<p>8 rows × 81 columns</p>\n",
       "</div>"
      ],
      "text/plain": [
       "                 x_0            x_1            x_2            x_3  \\\n",
       "count  259556.000000  259556.000000  259556.000000  259556.000000   \n",
       "mean        0.000297       0.001803       0.008599       0.000100   \n",
       "std         0.017221       0.042424       0.092333       0.010008   \n",
       "min         0.000000       0.000000       0.000000       0.000000   \n",
       "25%         0.000000       0.000000       0.000000       0.000000   \n",
       "50%         0.000000       0.000000       0.000000       0.000000   \n",
       "75%         0.000000       0.000000       0.000000       0.000000   \n",
       "max         1.000000       1.000000       1.000000       1.000000   \n",
       "\n",
       "                 x_4            x_5       x_6            x_7            x_8  \\\n",
       "count  259556.000000  259556.000000  259556.0  259556.000000  259556.000000   \n",
       "mean        0.000959       0.004257       0.0       0.000034       0.000280   \n",
       "std         0.030958       0.065109       0.0       0.005552       0.015944   \n",
       "min         0.000000       0.000000       0.0       0.000000       0.000000   \n",
       "25%         0.000000       0.000000       0.0       0.000000       0.000000   \n",
       "50%         0.000000       0.000000       0.0       0.000000       0.000000   \n",
       "75%         0.000000       0.000000       0.0       0.000000       0.000000   \n",
       "max         1.000000       1.000000       0.0       1.000000       1.000000   \n",
       "\n",
       "                x_67      ...                x_142          x_154  \\\n",
       "count  259556.000000      ...        259556.000000  259556.000000   \n",
       "mean        0.970298      ...             1.625766       0.089200   \n",
       "std         0.174015      ...           231.537747       0.615258   \n",
       "min         0.000000      ...             0.000000       0.000000   \n",
       "25%         0.970298      ...             0.000000       0.000000   \n",
       "50%         1.000000      ...             0.000000       0.000000   \n",
       "75%         1.000000      ...             0.000000       0.000000   \n",
       "max         3.000000      ...        104640.000000     135.000000   \n",
       "\n",
       "               x_155          x_156          x_159          x_163  \\\n",
       "count  259556.000000  259556.000000  259556.000000  259556.000000   \n",
       "mean        0.515953       2.045241       1.347805       0.008681   \n",
       "std         1.716905       4.627163       1.502041       0.144272   \n",
       "min         0.000000       0.000000       1.000000       0.000000   \n",
       "25%         0.000000       0.000000       1.000000       0.000000   \n",
       "50%         0.000000       1.000000       1.000000       0.000000   \n",
       "75%         0.515953       2.045241       1.000000       0.000000   \n",
       "max       183.000000     527.000000      74.000000      24.000000   \n",
       "\n",
       "               x_164          x_165          x_171          x_172  \n",
       "count  259556.000000  259556.000000  259556.000000  259556.000000  \n",
       "mean        0.057699       0.254189       0.300949  175646.312141  \n",
       "std         0.429727       1.161712       0.458671  101314.601869  \n",
       "min         0.000000       0.000000       0.000000       0.000000  \n",
       "25%         0.000000       0.000000       0.000000   87867.750000  \n",
       "50%         0.000000       0.000000       0.000000  175815.500000  \n",
       "75%         0.000000       0.000000       1.000000  263481.500000  \n",
       "max        48.000000     171.000000       1.000000  351087.000000  \n",
       "\n",
       "[8 rows x 81 columns]"
      ]
     },
     "execution_count": 32,
     "metadata": {},
     "output_type": "execute_result"
    }
   ],
   "source": [
    "# fill the missings with columns mean.\n",
    "df2=df2.fillna(df2.mean())\n",
    "df2.describe()"
   ]
  },
  {
   "cell_type": "code",
   "execution_count": 12,
   "metadata": {
    "collapsed": true
   },
   "outputs": [],
   "source": [
    "# recheck the missingness\n",
    "total = df2.isnull().sum().sort_values(ascending=False)\n",
    "percent = (df2.isnull().sum()/df2['x_172'].count()).sort_values(ascending=False)\n",
    "missing_data2 = pd.concat([total, percent], axis=1, keys=['Total_Missing', 'Percent_Missing'])\n",
    "missing_data2.to_excel('missing2.xls')"
   ]
  },
  {
   "cell_type": "markdown",
   "metadata": {},
   "source": [
    "# 2. Building the Models"
   ]
  },
  {
   "cell_type": "code",
   "execution_count": 13,
   "metadata": {
    "collapsed": true
   },
   "outputs": [],
   "source": [
    "# split the training and test data set and define X and Y matrix\n",
    "train, test = train_test_split(df2, test_size=0.2)\n",
    "X_train = train.drop([\"x_172\",\"x_171\"], axis=1)\n",
    "Y_train = train[\"x_171\"]\n",
    "X_test = test.drop([\"x_172\",\"x_171\"], axis=1)\n",
    "Y_test = test[\"x_171\"]"
   ]
  },
  {
   "cell_type": "code",
   "execution_count": 14,
   "metadata": {},
   "outputs": [
    {
     "name": "stdout",
     "output_type": "stream",
     "text": [
      "61.63 %\n"
     ]
    }
   ],
   "source": [
    "# build several preliminary models to choose the best\n",
    "# lieanr model with stochastic gradient descent (SGD) \n",
    "sgd = linear_model.SGDClassifier()\n",
    "sgd.fit(X_train, Y_train)\n",
    "Y_pred = sgd.predict(X_test)\n",
    "\n",
    "sgd.score(X_train, Y_train)\n",
    "\n",
    "acc_sgd = round(sgd.score(X_train, Y_train) * 100, 2)\n",
    "\n",
    "\n",
    "print(round(acc_sgd,2,), \"%\")\n"
   ]
  },
  {
   "cell_type": "code",
   "execution_count": 36,
   "metadata": {},
   "outputs": [
    {
     "name": "stdout",
     "output_type": "stream",
     "text": [
      "90.74 %\n"
     ]
    }
   ],
   "source": [
    "# Random Forest\n",
    "random_forest = RandomForestClassifier(n_estimators=100)\n",
    "random_forest.fit(X_train, Y_train)\n",
    "\n",
    "Y_prediction = random_forest.predict(X_test)\n",
    "\n",
    "random_forest.score(X_train, Y_train)\n",
    "acc_random_forest = round(random_forest.score(X_train, Y_train) * 100, 2)\n",
    "print(round(acc_random_forest,2,), \"%\")\n"
   ]
  },
  {
   "cell_type": "code",
   "execution_count": 16,
   "metadata": {},
   "outputs": [
    {
     "name": "stdout",
     "output_type": "stream",
     "text": [
      "69.65 %\n"
     ]
    }
   ],
   "source": [
    "# Logistic Regression\n",
    "logreg = LogisticRegression()\n",
    "logreg.fit(X_train, Y_train)\n",
    "\n",
    "Y_pred = logreg.predict(X_test)\n",
    "\n",
    "acc_log = round(logreg.score(X_train, Y_train) * 100, 2)\n",
    "print(round(acc_log,2,), \"%\")\n"
   ]
  },
  {
   "cell_type": "code",
   "execution_count": 17,
   "metadata": {},
   "outputs": [
    {
     "name": "stdout",
     "output_type": "stream",
     "text": [
      "42.7 %\n"
     ]
    }
   ],
   "source": [
    "# Linear SVC\n",
    "linear_svc = LinearSVC()\n",
    "linear_svc.fit(X_train, Y_train)\n",
    "\n",
    "Y_pred = linear_svc.predict(X_test)\n",
    "\n",
    "acc_linear_svc = round(linear_svc.score(X_train, Y_train) * 100, 2)\n",
    "print(round(acc_linear_svc,2,), \"%\")\n",
    "\n"
   ]
  },
  {
   "cell_type": "code",
   "execution_count": 46,
   "metadata": {},
   "outputs": [
    {
     "data": {
      "text/html": [
       "<div>\n",
       "<style>\n",
       "    .dataframe thead tr:only-child th {\n",
       "        text-align: right;\n",
       "    }\n",
       "\n",
       "    .dataframe thead th {\n",
       "        text-align: left;\n",
       "    }\n",
       "\n",
       "    .dataframe tbody tr th {\n",
       "        vertical-align: top;\n",
       "    }\n",
       "</style>\n",
       "<table border=\"1\" class=\"dataframe\">\n",
       "  <thead>\n",
       "    <tr style=\"text-align: right;\">\n",
       "      <th></th>\n",
       "      <th>Model</th>\n",
       "    </tr>\n",
       "    <tr>\n",
       "      <th>Score</th>\n",
       "      <th></th>\n",
       "    </tr>\n",
       "  </thead>\n",
       "  <tbody>\n",
       "    <tr>\n",
       "      <th>90.74</th>\n",
       "      <td>Random Forest</td>\n",
       "    </tr>\n",
       "    <tr>\n",
       "      <th>69.65</th>\n",
       "      <td>Logistic Regression</td>\n",
       "    </tr>\n",
       "    <tr>\n",
       "      <th>61.63</th>\n",
       "      <td>Stochastic Gradient Decent</td>\n",
       "    </tr>\n",
       "    <tr>\n",
       "      <th>42.70</th>\n",
       "      <td>Support Vector Machines</td>\n",
       "    </tr>\n",
       "  </tbody>\n",
       "</table>\n",
       "</div>"
      ],
      "text/plain": [
       "                            Model\n",
       "Score                            \n",
       "90.74               Random Forest\n",
       "69.65         Logistic Regression\n",
       "61.63  Stochastic Gradient Decent\n",
       "42.70     Support Vector Machines"
      ]
     },
     "execution_count": 46,
     "metadata": {},
     "output_type": "execute_result"
    }
   ],
   "source": [
    "# Random Forrest showed the best performance \n",
    "results = pd.DataFrame({\n",
    "    'Model': ['Support Vector Machines',  'Logistic Regression', \n",
    "              'Random Forest', \n",
    "              'Stochastic Gradient Decent'],\n",
    "    'Score': [acc_linear_svc, acc_log, \n",
    "              acc_random_forest, \n",
    "              acc_sgd]})\n",
    "result_df = results.sort_values(by='Score', ascending=False)\n",
    "result_df = result_df.set_index('Score')\n",
    "result_df.head(9)\n"
   ]
  },
  {
   "cell_type": "code",
   "execution_count": 20,
   "metadata": {},
   "outputs": [
    {
     "name": "stdout",
     "output_type": "stream",
     "text": [
      "Scores: [ 0.84420525  0.84439789  0.84418117  0.84654097  0.84632055]\n",
      "Mean: 0.845129169113\n",
      "Standard Deviation: 0.00106767655554\n"
     ]
    }
   ],
   "source": [
    "# 5-fold Corssvalidation to reaffirm the model accuracy and its variance which gives a more realistic evaluation \n",
    "# of model performance\n",
    "from sklearn.model_selection import cross_val_score\n",
    "rf = RandomForestClassifier(n_estimators=150)\n",
    "scores = cross_val_score(rf, X_train, Y_train, cv=5, scoring = \"accuracy\")\n",
    "print(\"Scores:\", scores)\n",
    "print(\"Mean:\", scores.mean())\n",
    "print(\"Standard Deviation:\", scores.std())"
   ]
  },
  {
   "cell_type": "code",
   "execution_count": 38,
   "metadata": {},
   "outputs": [
    {
     "name": "stdout",
     "output_type": "stream",
     "text": [
      "\n",
      "Accuracy:\n",
      "0.844929881338\n",
      "\n",
      "ROC score:\n",
      "0.89251392819\n",
      "\n",
      "Confusion Matrix\n",
      "[[34150  2283]\n",
      " [ 5767  9712]]\n",
      "\n",
      "Classification Report\n",
      "             precision    recall  f1-score   support\n",
      "\n",
      "        0.0       0.86      0.94      0.89     36433\n",
      "        1.0       0.81      0.63      0.71     15479\n",
      "\n",
      "avg / total       0.84      0.84      0.84     51912\n",
      "\n"
     ]
    }
   ],
   "source": [
    "#Apply model to the test data set and generate the metrics\n",
    "Y_pred = random_forest.predict(X_test)\n",
    "probs = random_forest.predict_proba(X_test)\n",
    "print(\"\\nAccuracy:\")\n",
    "print( metrics.accuracy_score(Y_test,Y_pred))\n",
    "print(\"\\nROC score:\" )\n",
    "print(metrics.roc_auc_score(Y_test,probs[:,1]))\n",
    "print(\"\\nConfusion Matrix\")\n",
    "print(metrics.confusion_matrix(Y_test,Y_pred))\n",
    "print(\"\\nClassification Report\")\n",
    "print(metrics.classification_report(Y_test,Y_pred))"
   ]
  },
  {
   "cell_type": "code",
   "execution_count": 22,
   "metadata": {},
   "outputs": [
    {
     "data": {
      "text/plain": [
       "<matplotlib.axes._subplots.AxesSubplot at 0x1c15d347f0>"
      ]
     },
     "execution_count": 22,
     "metadata": {},
     "output_type": "execute_result"
    },
    {
     "data": {
      "image/png": "[encoded data removed]",
      "text/plain": [
       "<matplotlib.figure.Figure at 0x1c15d34080>"
      ]
     },
     "metadata": {},
     "output_type": "display_data"
    }
   ],
   "source": [
    "# the feature importance\n",
    "importances = pd.DataFrame({'feature':X_train.columns,'importance':np.round(random_forest.feature_importances_,3)})\n",
    "importances = importances.sort_values('importance',ascending=False).set_index('feature')\n",
    "importances.head(30)\n",
    "importances.head(20).plot.bar()"
   ]
  },
  {
   "cell_type": "code",
   "execution_count": 26,
   "metadata": {
    "collapsed": true
   },
   "outputs": [],
   "source": [
    "## functions to optimize the model\n",
    "# import scikit learn libraries\n",
    "from sklearn import cross_validation, metrics   #model optimization and valuation tools\n",
    "from sklearn.grid_search import GridSearchCV   #Perforing grid search\n",
    "\n",
    "# define a function that help to train models and perform cv\n",
    "def modelfit(alg,dtrain,predictors,target,scoring_method,performCV=True,printFeatureImportance=True,cv_folds=5):\n",
    "    \"\"\"\n",
    "    This functions train the model given as 'alg' by performing cross-validation. It works on both regression and classification\n",
    "    alg: sklearn model\n",
    "    dtrain: pandas.DataFrame, training set\n",
    "    predictors: list, labels to be used in the model training process. They should be in the column names of dtrain\n",
    "    target: str, target variable\n",
    "    scoring_method: str, method to be used by the cross-validation to valuate the model\n",
    "    performCV: bool, perform Cv or not\n",
    "    printFeatureImportance: bool, plot histogram of features importance or not\n",
    "    cv_folds: int, degree of cross-validation\n",
    "    \"\"\"\n",
    "    # train the algorithm on data\n",
    "    alg.fit(dtrain[predictors],dtrain[target])\n",
    "    #predict on train set:\n",
    "    dtrain_predictions = alg.predict(dtrain[predictors])\n",
    "    if scoring_method == 'roc_auc':\n",
    "        dtrain_predprob = alg.predict_proba(dtrain[predictors])[:,1]\n",
    "    \n",
    "    #perform cross-validation\n",
    "    if performCV:\n",
    "        cv_score = cross_validation.cross_val_score(alg,dtrain[predictors],dtrain[target],cv=cv_folds,scoring=scoring_method)\n",
    "        #print model report\n",
    "        print(\"\\nModel report:\")\n",
    "        if scoring_method == 'roc_auc':\n",
    "            print(\"\\nAccuracy:\")\n",
    "            print(metrics.accuracy_score(dtrain[target].values,dtrain_predictions))\n",
    "            print(\"\\nAUC Score (Train):\")\n",
    "            print(metrics.roc_auc_score(dtrain[target], dtrain_predprob)) \n",
    "        if (scoring_method == 'mean_squared_error'):\n",
    "            print(\"\\nAccuracy:\")\n",
    "            print(metrics.mean_squared_error(dtrain[target].values,dtrain_predictions))\n",
    "    if performCV:\n",
    "        print(\"CV Score - Mean : \"+ str(np.mean(cv_score)) + \"| Std :\"  + str(np.std(cv_score)) +\"| Min : \" +str(np.min(cv_score)) +\"| Max :\" +str(np.max(cv_score))) \n",
    "    #print feature importance\n",
    "    if printFeatureImportance:\n",
    "        if dir(alg)[0] == '_Booster': #runs only if alg is xgboost\n",
    "            feat_imp = pd.Series(alg.booster().get_fscore()).sort_values(ascending=False)\n",
    "        else:\n",
    "            feat_imp = pd.Series(alg.feature_importances_,predictors).sort_values(ascending=False)\n",
    "        feat_imp.plot(kind='bar',title='Feature Importances')\n",
    "        plt.ylabel('Feature Importe Score')\n",
    "        plt.show()\n",
    "\n",
    "# optimize n_estimator through grid search\n",
    "def optimize_num_trees(alg,param_test,scoring_method,train,predictors,target):\n",
    "    \"\"\"\n",
    "    This functions is used to tune paremeters of a predictive algorithm\n",
    "    alg: sklearn model,\n",
    "    param_test: dict, parameters to be tuned\n",
    "    scoring_method: str, method to be used by the cross-validation to valuate the model\n",
    "    train: pandas.DataFrame, training data\n",
    "    predictors: list, labels to be used in the model training process. They should be in the column names of dtrain\n",
    "    target: str, target variable\n",
    "    \"\"\"\n",
    "    gsearch = GridSearchCV(estimator=alg, param_grid = param_test, scoring=scoring_method,n_jobs=2,iid=False,cv=5)\n",
    "    gsearch.fit(train[predictors],train[target])\n",
    "    return gsearch\n",
    "\n",
    "# plot optimization results\n",
    "def plot_opt_results(alg):\n",
    "    cv_results = []\n",
    "    for i in range(len(param_test['n_estimators'])):\n",
    "        cv_results.append((alg.grid_scores_[i][1],alg.grid_scores_[i][0]['n_estimators']))\n",
    "    cv_results = pd.DataFrame(cv_results)\n",
    "    plt.plot(cv_results[1],cv_results[0])\n",
    "    plt.xlabel('# trees')\n",
    "    plt.ylabel('score')\n",
    "    plt.title('optimization report')"
   ]
  },
  {
   "cell_type": "code",
   "execution_count": 43,
   "metadata": {},
   "outputs": [
    {
     "name": "stdout",
     "output_type": "stream",
     "text": [
      "Optimizing the classifier...\n",
      "[[mean: 0.88913, std: 0.00072, params: {'n_estimators': 30}, mean: 0.89016, std: 0.00062, params: {'n_estimators': 50}, mean: 0.89098, std: 0.00072, params: {'n_estimators': 70}, mean: 0.89111, std: 0.00099, params: {'n_estimators': 90}, mean: 0.89148, std: 0.00084, params: {'n_estimators': 110}, mean: 0.89126, std: 0.00084, params: {'n_estimators': 130}, mean: 0.89128, std: 0.00089, params: {'n_estimators': 150}], {'n_estimators': 110}, 0.8914778738320894]\n"
     ]
    }
   ],
   "source": [
    "## Fine Tune the random forrest model\n",
    "\n",
    "## OPTIMIZATION & TRAINING OF THE CLASSIFIER\n",
    "\n",
    "print(\"Optimizing the classifier...\")\n",
    "\n",
    "\n",
    "target = 'x_171' # set target variable - it will be used later in optimization\n",
    "\n",
    "\n",
    "# remove the target var and user id\n",
    "predictors = train.columns[0:-2]\n",
    "\n",
    "# optimize n_estimator through grid search\n",
    "param_test = {'n_estimators':list(range(30,151,20))} # define range over which number of trees is to be optimized\n",
    "\n",
    "model_cls = RandomForestClassifier(\n",
    "            max_depth=5,  \n",
    "            n_estimators=30, \n",
    "            max_features='auto',\n",
    "            random_state = 10\n",
    "            )\n",
    "\n",
    "# get results of the search grid\n",
    "gs_cls = optimize_num_trees(model_cls,param_test,'roc_auc',train,predictors,target)\n",
    "print([gs_cls.grid_scores_, gs_cls.best_params_, gs_cls.best_score_])\n"
   ]
  },
  {
   "cell_type": "code",
   "execution_count": 44,
   "metadata": {},
   "outputs": [
    {
     "data": {
      "image/png": "[encoded data removed]",
      "text/plain": [
       "<matplotlib.figure.Figure at 0x1c15aa6cc0>"
      ]
     },
     "metadata": {},
     "output_type": "display_data"
    }
   ],
   "source": [
    "# n_estimator =110 is the optimal number of trees\n",
    "plot_opt_results(gs_cls)"
   ]
  },
  {
   "cell_type": "code",
   "execution_count": 41,
   "metadata": {},
   "outputs": [
    {
     "name": "stdout",
     "output_type": "stream",
     "text": [
      "\n",
      "Model report:\n",
      "\n",
      "Accuracy:\n",
      "0.837428483366\n",
      "\n",
      "AUC Score (Train):\n",
      "0.889927067824\n",
      "CV Score - Mean : 0.889126615789| Std :0.000724585664619| Min : 0.887946413376| Max :0.890083570787\n"
     ]
    },
    {
     "data": {
      "image/png": "[encoded data removed]",
      "text/plain": [
       "<matplotlib.figure.Figure at 0x1083fa518>"
      ]
     },
     "metadata": {},
     "output_type": "display_data"
    },
    {
     "name": "stdout",
     "output_type": "stream",
     "text": [
      "Processing time:0:00:15.504906\n"
     ]
    }
   ],
   "source": [
    "tic = dt.datetime.now() # initiate the timing\n",
    "# cross validate the best model with optimized number of estimators\n",
    "modelfit(gs_cls.best_estimator_,train,predictors,target,'roc_auc')\n",
    "# save the best estimator on disk as pickle for a later use\n",
    "with open('my_classifier.pkl','wb') as fid:\n",
    "    pickle.dump(gs_cls.best_estimator_,fid)\n",
    "    fid.close()\n",
    "    \n",
    "print (\"Processing time:\"+ str(dt.datetime.now()-tic))    "
   ]
  },
  {
   "cell_type": "code",
   "execution_count": 42,
   "metadata": {},
   "outputs": [
    {
     "name": "stdout",
     "output_type": "stream",
     "text": [
      "\n",
      "Accuracy:\n",
      "0.838091385421\n",
      "\n",
      "ROC score:\n",
      "0.886884703567\n",
      "\n",
      "Confusion Matrix\n",
      "[[35351  1082]\n",
      " [ 7323  8156]]\n",
      "\n",
      "Classification Report\n",
      "             precision    recall  f1-score   support\n",
      "\n",
      "        0.0       0.83      0.97      0.89     36433\n",
      "        1.0       0.88      0.53      0.66     15479\n",
      "\n",
      "avg / total       0.84      0.84      0.82     51912\n",
      "\n"
     ]
    }
   ],
   "source": [
    "# Evaluate the model performance on test data\n",
    "Y_pred = gs_cls.best_estimator_.predict(X_test)\n",
    "probs = gs_cls.best_estimator_.predict_proba(X_test)\n",
    "print(\"\\nAccuracy:\")\n",
    "print( metrics.accuracy_score(Y_test,Y_pred))\n",
    "print(\"\\nROC score:\" )\n",
    "print(metrics.roc_auc_score(Y_test,probs[:,1]))\n",
    "print(\"\\nConfusion Matrix\")\n",
    "print(metrics.confusion_matrix(Y_test,Y_pred))\n",
    "print(\"\\nClassification Report\")\n",
    "print(metrics.classification_report(Y_test,Y_pred))"
   ]
  }
 ],
 "metadata": {
  "kernelspec": {
   "display_name": "Python 3",
   "language": "python",
   "name": "python3"
  },
  "language_info": {
   "codemirror_mode": {
    "name": "ipython",
    "version": 3
   },
   "file_extension": ".py",
   "mimetype": "text/x-python",
   "name": "python",
   "nbconvert_exporter": "python",
   "pygments_lexer": "ipython3",
   "version": "3.6.1"
  }
 },
 "nbformat": 4,
 "nbformat_minor": 2
}
